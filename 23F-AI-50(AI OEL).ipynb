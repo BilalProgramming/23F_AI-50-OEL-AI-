{
 "cells": [
  {
   "cell_type": "code",
   "execution_count": null,
   "id": "fbe6a63f",
   "metadata": {},
   "outputs": [
    {
     "name": "stdout",
     "output_type": "stream",
     "text": [
      "  shelter_id     shelter_name  capacity\n",
      "0         S1    Alpha Shelter       200\n",
      "1         S2     Beta Shelter       150\n",
      "2         S3    Delta Shelter       300\n",
      "3         S4     Echo Shelter       100\n",
      "4         S5  Foxtrot Shelter       250\n"
     ]
    }
   ],
   "source": [
    "import pandas as pd\n",
    "df=pd.read_csv(\"shelter_data (3).csv\") #Load a dataset\n",
    "print(df)"
   ]
  },
  {
   "cell_type": "code",
   "execution_count": null,
   "id": "f7869fce",
   "metadata": {},
   "outputs": [
    {
     "name": "stdout",
     "output_type": "stream",
     "text": [
      "  shelter_id  shelter_name  capacity\n",
      "1         S2  Beta Shelter       150\n",
      "3         S4  Echo Shelter       100\n"
     ]
    }
   ],
   "source": [
    "print(df[df[\"capacity\"]<200]) # Print all shelters with capacity less than 200."
   ]
  },
  {
   "cell_type": "code",
   "execution_count": 9,
   "id": "91295746",
   "metadata": {},
   "outputs": [
    {
     "name": "stdout",
     "output_type": "stream",
     "text": [
      "  shelter_id   shelter_name  capacity\n",
      "2         S3  Delta Shelter       300\n"
     ]
    }
   ],
   "source": [
    "# Show the shelter with the highest capacity. \n",
    "print(df.sort_values(by=\"capacity\",ascending=False).head(1))"
   ]
  },
  {
   "cell_type": "code",
   "execution_count": 13,
   "id": "fe86b3a2",
   "metadata": {},
   "outputs": [
    {
     "name": "stdout",
     "output_type": "stream",
     "text": [
      "{'S3', 'S4', 'S2', 'S1', 'S5'}\n"
     ]
    }
   ],
   "source": [
    "import collections\n",
    "def bfs(graph,root):                               #root=\"S1\"\n",
    "    #make queue for bfs\n",
    "    queue=collections.deque([root])  #queue=\"s1\"\n",
    "    visited=set() # set contains distinct values\n",
    "    while queue:\n",
    "     vertex=queue.popleft()    #vertex=S5\n",
    "     visited.add(vertex)       #visited=S1,s2,s3,s4,s5\n",
    "     for i in graph[vertex]: \n",
    "        if i not in visited:\n",
    "           queue.append(i)   #queue= becomes empty\n",
    "    return visited      \n",
    "\n",
    "    \n",
    "\n",
    "if __name__==\"__main__\":\n",
    "    roads = {   # adjacency list.......\n",
    "'S1': ['S2', 'S3'], \n",
    "'S2': ['S1', 'S4'], \n",
    "'S3': ['S1', 'S5'], \n",
    "'S4': ['S2'], \n",
    "'S5': ['S3'] \n",
    "} \n",
    "shelters=bfs(roads,'S1')    \n",
    "print(shelters)\n",
    "    "
   ]
  },
  {
   "cell_type": "code",
   "execution_count": 14,
   "id": "7efb2701",
   "metadata": {},
   "outputs": [
    {
     "name": "stdout",
     "output_type": "stream",
     "text": [
      "  shelter_id     shelter_name  capacity\n",
      "2         S3    Delta Shelter       300\n",
      "4         S5  Foxtrot Shelter       250\n"
     ]
    }
   ],
   "source": [
    "#After BFS, display only those reachable shelters whose capacity is above 200. \n",
    "print(df[df[\"capacity\"]>200])\n"
   ]
  }
 ],
 "metadata": {
  "kernelspec": {
   "display_name": "Python 3",
   "language": "python",
   "name": "python3"
  },
  "language_info": {
   "codemirror_mode": {
    "name": "ipython",
    "version": 3
   },
   "file_extension": ".py",
   "mimetype": "text/x-python",
   "name": "python",
   "nbconvert_exporter": "python",
   "pygments_lexer": "ipython3",
   "version": "3.11.9"
  }
 },
 "nbformat": 4,
 "nbformat_minor": 5
}
